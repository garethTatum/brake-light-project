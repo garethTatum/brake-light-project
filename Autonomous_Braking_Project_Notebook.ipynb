{
 "cells": [
  {
   "cell_type": "code",
   "execution_count": 7,
   "metadata": {},
   "outputs": [
    {
     "name": "stdout",
     "output_type": "stream",
     "text": [
      "Requirement already satisfied: pip in c:\\users\\gtatu\\appdata\\local\\programs\\python\\python39\\lib\\site-packages (22.3.1)\n"
     ]
    }
   ],
   "source": [
    "!python -m pip install --upgrade pip"
   ]
  },
  {
   "cell_type": "code",
   "execution_count": 3,
   "metadata": {},
   "outputs": [
    {
     "name": "stdout",
     "output_type": "stream",
     "text": [
      "Requirement already satisfied: opencv-python in c:\\users\\gtatu\\appdata\\local\\programs\\python\\python39\\lib\\site-packages (4.6.0.66)\n",
      "Requirement already satisfied: numpy>=1.17.3 in c:\\users\\gtatu\\appdata\\local\\programs\\python\\python39\\lib\\site-packages (from opencv-python) (1.23.5)\n",
      "Note: you may need to restart the kernel to use updated packages.\n"
     ]
    },
    {
     "name": "stderr",
     "output_type": "stream",
     "text": [
      "Traceback (most recent call last):\n",
      "  File \"C:\\Users\\gtatu\\OneDrive\\Documents\\InspiritAI\\Code\\brake-light-project\\cam_demo.py\", line 3, in <module>\n",
      "    import torch\n",
      "ModuleNotFoundError: No module named 'torch'\n"
     ]
    }
   ],
   "source": [
    "import os\n",
    "import glob\n",
    "import cv2\n",
    "\n",
    "# Cam_Demo Test\n",
    "%pip install opencv-python\n",
    "!python \"C:\\Users\\gtatu\\OneDrive\\Documents\\InspiritAI\\Code\\brake-light-project\\cam_demo.py\" --recording 1 --reso 608 --video \"C:\\Users\\gtatu\\OneDrive\\Documents\\InspiritAI\\Videos-Unprocessed\\d9bd0679-1826b1d8.mov\"\n",
    "\n",
    "# Loop\n",
    "# fileList = glob.glob(\"/content/drive/MyDrive/AI-Project/Videos-Unprocessed/*.mov\")\n",
    "fileList = glob.glob(\"C:/Users/gtatu/OneDrive/Documents/InspiritAI/Loop_Test/*.mov\")\n",
    "\n",
    "# videoBrake = cv2.VideoWriter(\"/content/drive/MyDrive/AI-Project/Brake-Out/brake-out.mov\", cv2.VideoWriter_fourcc(*'mp4v'), 15, (1280, 720), True)\n",
    "\n",
    "index = 0\n",
    "\n",
    "# Training\n",
    "for vidFile in fileList:\n",
    "  # print(\"File: \", vidFile) \n",
    "  # os.system(\"python /content/drive/MyDrive/brake-light-project/video_demo.py --cfg /content/drive/MyDrive/brake-light-project/cfg/yolov3.cfg --weights /content/drive/MyDrive/brake-light-project/yolov3.weights --video \" + vidFile + \" --index \" + str(index))\n",
    "  os.system(\"python C:/Users/gtatu/OneDrive/Documents/InspiritAI/Code/brake-light-project/cam_demo.py --recording 1 --reso 608 --video \"+ vidFile)\n",
    "  cap = cv2.VideoCapture(vidFile)\n",
    "  if (cap.isOpened()== False): \n",
    "    print(\"Error opening video stream or file\")\n",
    "  # Read until video is completed\n",
    "  while(cap.isOpened()):\n",
    "    # Capture frame-by-frame\n",
    "    ret, frame = cap.read()\n",
    "    # if ret == True:     \n",
    "      # Display the resulting frame\n",
    "      # cv2.imshow('Frame',frame)\n",
    "     # Press Q on keyboard to  exit\n",
    "      # if cv2.waitKey(25) & 0xFF == ord('q'):\n",
    "      #   break\n",
    "  # Break the loop\n",
    "  # else: \n",
    "    break\n",
    "    \n",
    "  # When everything done, release the video capture object\n",
    "  # newVideo = VideoFileClip(\"/content/drive/MyDrive/AI-Project/Brake-Out/brake-out.mov\")\n",
    "  # brakeOut = VideoFileClip(\"/content/drive/MyDrive/AI-Project/Brake-Out/brake-out-test.mov\")\n",
    "\n",
    "  # brakeOut = concatenate_videoclips([newVideo, brakeOut])\n",
    "  # brakeOut.write_videofile(\"/content/drive/MyDrive/AI-Project/Brake-Out/brake-out-test.mov\")\n",
    "\n",
    "  index += 1\n",
    "  cap.release()\n",
    "\n"
   ]
  }
 ],
 "metadata": {
  "kernelspec": {
   "display_name": "Python 3",
   "language": "python",
   "name": "python3"
  },
  "language_info": {
   "codemirror_mode": {
    "name": "ipython",
    "version": 3
   },
   "file_extension": ".py",
   "mimetype": "text/x-python",
   "name": "python",
   "nbconvert_exporter": "python",
   "pygments_lexer": "ipython3",
   "version": "3.9.2"
  },
  "orig_nbformat": 4,
  "vscode": {
   "interpreter": {
    "hash": "8677c97c964fb8dcedefb5ccd3015949ec8bc210cc82d1daf201861c5e8d8a33"
   }
  }
 },
 "nbformat": 4,
 "nbformat_minor": 2
}
